{
 "cells": [
  {
   "cell_type": "code",
   "execution_count": 1,
   "metadata": {},
   "outputs": [
    {
     "data": {
      "text/plain": [
       "1"
      ]
     },
     "execution_count": 1,
     "metadata": {},
     "output_type": "execute_result"
    }
   ],
   "source": [
    "import tensorflow as tf\n",
    "len(tf.config.list_physical_devices('GPU'))\n"
   ]
  },
  {
   "cell_type": "code",
   "execution_count": 2,
   "metadata": {},
   "outputs": [
    {
     "name": "stdout",
     "output_type": "stream",
     "text": [
      "Forced full GPU allocation.\n"
     ]
    }
   ],
   "source": [
    "import tensorflow as tf\n",
    "\n",
    "gpus = tf.config.experimental.list_physical_devices('GPU')\n",
    "if gpus:\n",
    "    try:\n",
    "        for gpu in gpus:\n",
    "            tf.config.experimental.set_memory_growth(gpu, False)  # Allocate all memory upfront\n",
    "            tf.config.experimental.set_virtual_device_configuration(\n",
    "                gpu,\n",
    "                [tf.config.experimental.VirtualDeviceConfiguration(memory_limit=4096)]  # Use full GPU memory\n",
    "            )\n",
    "        print(\"Forced full GPU allocation.\")\n",
    "    except RuntimeError as e:\n",
    "        print(e)\n"
   ]
  },
  {
   "cell_type": "code",
   "execution_count": 3,
   "metadata": {
    "id": "GItwKd9wOCew"
   },
   "outputs": [],
   "source": [
    "import os\n",
    "import numpy as np\n",
    "import pandas as pd\n",
    "from tensorflow.keras.preprocessing.image import ImageDataGenerator"
   ]
  },
  {
   "cell_type": "code",
   "execution_count": 4,
   "metadata": {
    "id": "Stz6LDQ_ODlX"
   },
   "outputs": [],
   "source": [
    "folder_path = r'C:\\Users\\write\\Desktop\\ai\\AI-Development\\DL\\UTKFace\\utkface_aligned_cropped\\UTKFace'"
   ]
  },
  {
   "cell_type": "code",
   "execution_count": 5,
   "metadata": {},
   "outputs": [
    {
     "data": {
      "text/plain": [
       "[PhysicalDevice(name='/physical_device:GPU:0', device_type='GPU')]"
      ]
     },
     "execution_count": 5,
     "metadata": {},
     "output_type": "execute_result"
    }
   ],
   "source": [
    "import tensorflow as tf\n",
    "tf.config.list_physical_devices('GPU')\n"
   ]
  },
  {
   "cell_type": "code",
   "execution_count": 6,
   "metadata": {
    "id": "4g3DkGJEOEmB"
   },
   "outputs": [],
   "source": [
    "age = []\n",
    "gender = []\n",
    "img_path = []\n",
    "\n",
    "for file in os.listdir(folder_path):\n",
    "    age.append(int(file.split('_')[0]))\n",
    "    gender.append(int(file.split('_')[1]))\n",
    "    img_path.append(file)\n"
   ]
  },
  {
   "cell_type": "code",
   "execution_count": null,
   "metadata": {
    "id": "d_AE_sCfZZ60"
   },
   "outputs": [],
   "source": []
  },
  {
   "cell_type": "code",
   "execution_count": 7,
   "metadata": {
    "colab": {
     "base_uri": "https://localhost:8080/"
    },
    "id": "EAr0wKKQOFeD",
    "outputId": "cf1c8681-b0e6-4774-e494-45db66a2bcde"
   },
   "outputs": [
    {
     "data": {
      "text/plain": [
       "23708"
      ]
     },
     "execution_count": 7,
     "metadata": {},
     "output_type": "execute_result"
    }
   ],
   "source": [
    "len(age)"
   ]
  },
  {
   "cell_type": "code",
   "execution_count": 8,
   "metadata": {
    "id": "_eB_ytqUOGZf"
   },
   "outputs": [],
   "source": [
    "df = pd.DataFrame({'age': age, 'gender': gender, 'img': img_path})"
   ]
  },
  {
   "cell_type": "code",
   "execution_count": 9,
   "metadata": {
    "colab": {
     "base_uri": "https://localhost:8080/"
    },
    "id": "7yNa0C9UOHqG",
    "outputId": "a8db3706-897c-4fa9-de2e-b90327776ba1"
   },
   "outputs": [
    {
     "data": {
      "text/plain": [
       "(23708, 3)"
      ]
     },
     "execution_count": 9,
     "metadata": {},
     "output_type": "execute_result"
    }
   ],
   "source": [
    "df.shape"
   ]
  },
  {
   "cell_type": "code",
   "execution_count": 10,
   "metadata": {
    "colab": {
     "base_uri": "https://localhost:8080/",
     "height": 206
    },
    "id": "pjUt3w0-OIux",
    "outputId": "4a36fb30-e7ee-496c-b548-931eeb34be8d"
   },
   "outputs": [
    {
     "data": {
      "text/html": [
       "<div>\n",
       "<style scoped>\n",
       "    .dataframe tbody tr th:only-of-type {\n",
       "        vertical-align: middle;\n",
       "    }\n",
       "\n",
       "    .dataframe tbody tr th {\n",
       "        vertical-align: top;\n",
       "    }\n",
       "\n",
       "    .dataframe thead th {\n",
       "        text-align: right;\n",
       "    }\n",
       "</style>\n",
       "<table border=\"1\" class=\"dataframe\">\n",
       "  <thead>\n",
       "    <tr style=\"text-align: right;\">\n",
       "      <th></th>\n",
       "      <th>age</th>\n",
       "      <th>gender</th>\n",
       "      <th>img</th>\n",
       "    </tr>\n",
       "  </thead>\n",
       "  <tbody>\n",
       "    <tr>\n",
       "      <th>0</th>\n",
       "      <td>100</td>\n",
       "      <td>0</td>\n",
       "      <td>100_0_0_20170112213500903.jpg.chip.jpg</td>\n",
       "    </tr>\n",
       "    <tr>\n",
       "      <th>1</th>\n",
       "      <td>100</td>\n",
       "      <td>0</td>\n",
       "      <td>100_0_0_20170112215240346.jpg.chip.jpg</td>\n",
       "    </tr>\n",
       "    <tr>\n",
       "      <th>2</th>\n",
       "      <td>100</td>\n",
       "      <td>1</td>\n",
       "      <td>100_1_0_20170110183726390.jpg.chip.jpg</td>\n",
       "    </tr>\n",
       "    <tr>\n",
       "      <th>3</th>\n",
       "      <td>100</td>\n",
       "      <td>1</td>\n",
       "      <td>100_1_0_20170112213001988.jpg.chip.jpg</td>\n",
       "    </tr>\n",
       "    <tr>\n",
       "      <th>4</th>\n",
       "      <td>100</td>\n",
       "      <td>1</td>\n",
       "      <td>100_1_0_20170112213303693.jpg.chip.jpg</td>\n",
       "    </tr>\n",
       "  </tbody>\n",
       "</table>\n",
       "</div>"
      ],
      "text/plain": [
       "   age  gender                                     img\n",
       "0  100       0  100_0_0_20170112213500903.jpg.chip.jpg\n",
       "1  100       0  100_0_0_20170112215240346.jpg.chip.jpg\n",
       "2  100       1  100_1_0_20170110183726390.jpg.chip.jpg\n",
       "3  100       1  100_1_0_20170112213001988.jpg.chip.jpg\n",
       "4  100       1  100_1_0_20170112213303693.jpg.chip.jpg"
      ]
     },
     "execution_count": 10,
     "metadata": {},
     "output_type": "execute_result"
    }
   ],
   "source": [
    "df.head()"
   ]
  },
  {
   "cell_type": "code",
   "execution_count": 11,
   "metadata": {
    "id": "WfuL2Uu6OJhe"
   },
   "outputs": [],
   "source": [
    "from sklearn.model_selection import train_test_split\n",
    "\n",
    "train_df, test_df = train_test_split(df, test_size=0.2, random_state=0)\n"
   ]
  },
  {
   "cell_type": "code",
   "execution_count": 12,
   "metadata": {
    "id": "sUaE5C-sSgjj"
   },
   "outputs": [],
   "source": [
    "train_df['age'] = train_df['age'].astype(float)\n",
    "train_df['gender'] = train_df['gender'].astype(int)  # binary (0 or 1)"
   ]
  },
  {
   "cell_type": "code",
   "execution_count": 13,
   "metadata": {
    "colab": {
     "base_uri": "https://localhost:8080/"
    },
    "id": "OL2go0cQOKYR",
    "outputId": "11113dae-f627-4484-cd4c-30c08f5d77e0"
   },
   "outputs": [
    {
     "data": {
      "text/plain": [
       "(18966, 3)"
      ]
     },
     "execution_count": 13,
     "metadata": {},
     "output_type": "execute_result"
    }
   ],
   "source": [
    "train_df.shape"
   ]
  },
  {
   "cell_type": "code",
   "execution_count": 14,
   "metadata": {
    "colab": {
     "base_uri": "https://localhost:8080/"
    },
    "id": "5xwzNWLKOLJV",
    "outputId": "08faf185-d9b9-46c3-fb26-fdd908c961a6"
   },
   "outputs": [
    {
     "data": {
      "text/plain": [
       "(4742, 3)"
      ]
     },
     "execution_count": 14,
     "metadata": {},
     "output_type": "execute_result"
    }
   ],
   "source": [
    "test_df.shape"
   ]
  },
  {
   "cell_type": "code",
   "execution_count": 15,
   "metadata": {
    "id": "62X35VdGOMPL"
   },
   "outputs": [],
   "source": [
    "train_datagen = ImageDataGenerator(\n",
    "    rescale=1./255,\n",
    "    width_shift_range=0.2,\n",
    "    height_shift_range=0.2,\n",
    "    shear_range=0.2,\n",
    "    zoom_range=0.2,\n",
    "    horizontal_flip=True,\n",
    ")\n",
    "\n",
    "test_datagen = ImageDataGenerator(\n",
    "    rescale=1./255\n",
    ")"
   ]
  },
  {
   "cell_type": "code",
   "execution_count": 16,
   "metadata": {
    "colab": {
     "base_uri": "https://localhost:8080/"
    },
    "id": "9_ZHsuQVOM2G",
    "outputId": "08207258-58a7-4caa-b748-3aba9e762d33"
   },
   "outputs": [
    {
     "name": "stdout",
     "output_type": "stream",
     "text": [
      "Found 18966 validated image filenames.\n",
      "Found 4742 validated image filenames.\n"
     ]
    }
   ],
   "source": [
    "batch_size = 32\n",
    "train_generator = train_datagen.flow_from_dataframe(\n",
    "    train_df,\n",
    "    directory=folder_path,\n",
    "    x_col='img',\n",
    "    y_col=['age', 'gender'],  # providing 2 output as we are working on 2 output model\n",
    "    target_size=(200,200),\n",
    "    class_mode='raw',  # multi_output because output are more than 1\n",
    "    batch_size=batch_size,\n",
    "    \n",
    ")\n",
    "\n",
    "test_generator = train_datagen.flow_from_dataframe(\n",
    "    test_df,\n",
    "    directory=folder_path,\n",
    "    x_col='img',\n",
    "    y_col=['age', 'gender'],\n",
    "    target_size=(200, 200),\n",
    "    class_mode='raw',\n",
    "    batch_size=batch_size,\n",
    ")"
   ]
  },
  {
   "cell_type": "code",
   "execution_count": 17,
   "metadata": {
    "id": "5IzaPS8hViv7"
   },
   "outputs": [],
   "source": [
    "# Function to modify generator output structure\n",
    "def process_generator(generator):\n",
    "\n",
    "    for batch_x, batch_y in generator:\n",
    "        yield batch_x, {'age': batch_y[:, 0], 'gender': batch_y[:, 1]}\n",
    "\n",
    "# Apply the function to generators\n",
    "train_generator_fixed = process_generator(train_generator)\n",
    "test_generator_fixed = process_generator(test_generator)"
   ]
  },
  {
   "cell_type": "code",
   "execution_count": 18,
   "metadata": {
    "id": "GoVVugQgONp5"
   },
   "outputs": [],
   "source": [
    "from keras.applications.vgg16 import VGG16\n",
    "from keras.layers import *\n",
    "from keras.models import Model"
   ]
  },
  {
   "cell_type": "code",
   "execution_count": 19,
   "metadata": {
    "colab": {
     "base_uri": "https://localhost:8080/"
    },
    "id": "cgrZCdf8OOX4",
    "outputId": "1707f6d7-08c3-4d05-c5a8-495046cdf7dd"
   },
   "outputs": [],
   "source": [
    "vggnet = VGG16(include_top=False, input_shape=(200, 200, 3))"
   ]
  },
  {
   "cell_type": "code",
   "execution_count": 20,
   "metadata": {
    "id": "acuQbeiDOPLI"
   },
   "outputs": [],
   "source": [
    "vggnet.trainable=False\n",
    "\n",
    "output=vggnet.layers[-1].output  # getting only output layer of vggnet\n",
    "\n",
    "flatten = Flatten()(output)\n",
    "\n",
    "dense1 = Dense(512, activation='relu')(flatten)\n",
    "dense2 = Dense(512, activation='relu')(flatten)\n",
    "\n",
    "dense3 = Dense(512, activation='relu')(dense1)\n",
    "dense4 = Dense(512, activation='relu')(dense2)\n",
    "\n",
    "output1 = Dense(1, activation='linear', name='age')(dense3)   # we can also define the name of any output layer\n",
    "output2 = Dense(1, activation='sigmoid', name='gender')(dense4)"
   ]
  },
  {
   "cell_type": "code",
   "execution_count": 21,
   "metadata": {
    "id": "i1dx6_YZOQF_"
   },
   "outputs": [],
   "source": [
    "model = Model(inputs=vggnet.input, outputs=[output1, output2]) # getting input of the vggnet input and output we defined"
   ]
  },
  {
   "cell_type": "markdown",
   "metadata": {
    "colab": {
     "base_uri": "https://localhost:8080/",
     "height": 1000
    },
    "id": "CDWsqPUXOQ4J",
    "outputId": "5b444fb9-b02c-488e-f8f9-96f33a8fb42d"
   },
   "source": [
    "model.summary()"
   ]
  },
  {
   "cell_type": "code",
   "execution_count": 22,
   "metadata": {
    "id": "m0BbY5m2ORxj"
   },
   "outputs": [],
   "source": [
    "model.compile(optimizer='adam', loss={'age': 'mae', 'gender': 'binary_crossentropy'}, metrics={'age': 'mae', 'gender': 'accuracy'})"
   ]
  },
  {
   "cell_type": "code",
   "execution_count": 24,
   "metadata": {
    "colab": {
     "base_uri": "https://localhost:8080/"
    },
    "id": "QQpUNwCAOSwS",
    "outputId": "e10641b2-12a1-4008-cf00-2eada3554073"
   },
   "outputs": [
    {
     "name": "stdout",
     "output_type": "stream",
     "text": [
      "156/156 [==============================] - 173s 1s/step - loss: 8.5181 - age_loss: 8.1538 - gender_loss: 0.3644 - age_mae: 8.1538 - gender_accuracy: 0.8295 - val_loss: 9.0461 - val_age_loss: 8.6447 - val_gender_loss: 0.4015 - val_age_mae: 8.6447 - val_gender_accuracy: 0.8044\n"
     ]
    }
   ],
   "source": [
    "history = model.fit(\n",
    "    train_generator_fixed,\n",
    "    steps_per_epoch=5000 // batch_size,\n",
    "    validation_steps=3000 // batch_size,\n",
    "    # epochs=50,\n",
    "    epochs=1,\n",
    "    # initial_epoch=epoch,\n",
    "    validation_data=test_generator_fixed,\n",
    ")\n",
    "\n",
    "model.save(\"utkFaceModel.h5\")\n",
    "\n"
   ]
  },
  {
   "cell_type": "code",
   "execution_count": null,
   "metadata": {},
   "outputs": [],
   "source": []
  },
  {
   "cell_type": "code",
   "execution_count": 25,
   "metadata": {
    "id": "XzNnOq4WUqx_"
   },
   "outputs": [],
   "source": [
    "from matplotlib import pyplot as plt"
   ]
  },
  {
   "cell_type": "code",
   "execution_count": 26,
   "metadata": {
    "colab": {
     "base_uri": "https://localhost:8080/",
     "height": 452
    },
    "id": "V7bm2hY3vN1M",
    "outputId": "5949d929-f868-455e-9e00-acae25fa9886"
   },
   "outputs": [
    {
     "data": {
      "image/png": "[encoded data removed]",
      "text/plain": [
       "<Figure size 640x480 with 1 Axes>"
      ]
     },
     "metadata": {},
     "output_type": "display_data"
    }
   ],
   "source": [
    "\n",
    "plt.title('Gender Loss')\n",
    "plt.plot(history.history['gender_loss'], label='Train')\n",
    "plt.plot(history.history['val_gender_loss'], label='Test')\n",
    "plt.legend()\n",
    "plt.show()"
   ]
  },
  {
   "cell_type": "code",
   "execution_count": 27,
   "metadata": {
    "colab": {
     "base_uri": "https://localhost:8080/",
     "height": 452
    },
    "id": "nnRHDjfi3FOn",
    "outputId": "0bc1c2d8-6562-4737-a159-5f954fdd1ca2"
   },
   "outputs": [
    {
     "data": {
      "image/png": "[encoded data removed]",
      "text/plain": [
       "<Figure size 640x480 with 1 Axes>"
      ]
     },
     "metadata": {},
     "output_type": "display_data"
    }
   ],
   "source": [
    "plt.title('Gender Accuracy')\n",
    "\n",
    "plt.plot(history.history['gender_accuracy'], label='Train')\n",
    "plt.plot(history.history['val_gender_accuracy'], label='Test')\n",
    "plt.legend()\n",
    "plt.show()"
   ]
  },
  {
   "cell_type": "code",
   "execution_count": 28,
   "metadata": {
    "colab": {
     "base_uri": "https://localhost:8080/",
     "height": 452
    },
    "id": "AIejgeVX-VvX",
    "outputId": "e86bb1cc-9f59-4e12-a5fb-21ffadf0f6ba"
   },
   "outputs": [
    {
     "data": {
      "image/png": "[encoded data removed]",
      "text/plain": [
       "<Figure size 640x480 with 1 Axes>"
      ]
     },
     "metadata": {},
     "output_type": "display_data"
    }
   ],
   "source": [
    "plt.title('Age Loss')\n",
    "\n",
    "plt.plot(history.history['age_loss'], label='Train')\n",
    "plt.plot(history.history['val_age_loss'], label='Test')\n",
    "plt.legend()\n",
    "plt.show()"
   ]
  },
  {
   "cell_type": "code",
   "execution_count": 29,
   "metadata": {
    "colab": {
     "base_uri": "https://localhost:8080/",
     "height": 452
    },
    "id": "AqOI28OWvMid",
    "outputId": "f3b6efcc-b808-426f-c105-ff7409e7c447"
   },
   "outputs": [
    {
     "data": {
      "image/png": "[encoded data removed]",
      "text/plain": [
       "<Figure size 640x480 with 1 Axes>"
      ]
     },
     "metadata": {},
     "output_type": "display_data"
    }
   ],
   "source": [
    "plt.title(\"Age MAE\")\n",
    "\n",
    "plt.plot(history.history['age_mae'], label='Train')\n",
    "plt.plot(history.history['val_age_mae'], label='Test')\n",
    "plt.legend()\n",
    "plt.show()"
   ]
  },
  {
   "cell_type": "code",
   "execution_count": 31,
   "metadata": {
    "id": "wyrBvC-bvh_E"
   },
   "outputs": [
    {
     "name": "stderr",
     "output_type": "stream",
     "text": [
      "WARNING:absl:Found untraced functions such as _jit_compiled_convolution_op, _jit_compiled_convolution_op, _jit_compiled_convolution_op, _jit_compiled_convolution_op, _jit_compiled_convolution_op while saving (showing 5 of 13). These functions will not be directly callable after loading.\n"
     ]
    },
    {
     "name": "stdout",
     "output_type": "stream",
     "text": [
      "INFO:tensorflow:Assets written to: model\\assets\n"
     ]
    },
    {
     "name": "stderr",
     "output_type": "stream",
     "text": [
      "INFO:tensorflow:Assets written to: model\\assets\n"
     ]
    }
   ],
   "source": [
    "model.save('model')"
   ]
  },
  {
   "cell_type": "code",
   "execution_count": null,
   "metadata": {
    "id": "BQYF94fGvvAb"
   },
   "outputs": [],
   "source": []
  }
 ],
 "metadata": {
  "accelerator": "GPU",
  "colab": {
   "gpuType": "T4",
   "provenance": []
  },
  "kernelspec": {
   "display_name": "Python 3 (ipykernel)",
   "language": "python",
   "name": "python3"
  },
  "language_info": {
   "codemirror_mode": {
    "name": "ipython",
    "version": 3
   },
   "file_extension": ".py",
   "mimetype": "text/x-python",
   "name": "python",
   "nbconvert_exporter": "python",
   "pygments_lexer": "ipython3",
   "version": "3.10.6"
  }
 },
 "nbformat": 4,
 "nbformat_minor": 4
}
